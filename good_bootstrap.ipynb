{
 "cells": [
  {
   "cell_type": "code",
   "execution_count": 203,
   "metadata": {},
   "outputs": [],
   "source": [
    "from random import choice, choices\n",
    "from string import ascii_lowercase, digits\n",
    "import numpy as np\n",
    "from numpy.random import default_rng\n",
    "import time\n",
    "import pandas as pd\n",
    "import seaborn as sns\n",
    "\n",
    "from statsmodels.stats.proportion import multinomial_proportions_confint, proportion_confint\n",
    "from scipy.stats import binom\n",
    "\n",
    "from multiprocessing import Pool, cpu_count\n",
    "from functools import partial\n",
    "\n",
    "import matplotlib.pyplot as plt\n",
    "%matplotlib inline\n"
   ]
  },
  {
   "cell_type": "markdown",
   "metadata": {},
   "source": [
    "# Main algorithm functions"
   ]
  },
  {
   "cell_type": "code",
   "execution_count": 204,
   "metadata": {},
   "outputs": [],
   "source": [
    "def sisson_glaz(sample_freqs, sample_probs, word_list):\n",
    "    sis = pd.DataFrame(multinomial_proportions_confint(sample_freqs, method='sison-glaz'), \n",
    "                   columns=['ci_lower','ci_upper'])\n",
    "    sis['exp_method'] = 'sison-glaz'\n",
    "    sis['word'] = word_list\n",
    "    sis['param_probs'] = sample_probs\n",
    "    sis['sample_probs'] = sample_probs\n",
    "    return sis[['word', 'sample_probs', 'param_probs', 'exp_method', 'ci_lower', 'ci_upper']]\n",
    "\n",
    "\n",
    "def gt_orlitsky(sample, word_list):\n",
    "    counts = pd.Series(sample).value_counts().reindex(word_list , fill_value=0)\n",
    "    counts_of_counts = counts.value_counts()\n",
    "    p = {}\n",
    "    for c in (counts_of_counts.index):\n",
    "        c_o_c_1 = counts_of_counts[c+1] if c+1 in counts_of_counts else 0\n",
    "        if c > c_o_c_1:\n",
    "            p[c] = (c/counts.sum())\n",
    "        else:\n",
    "            p[c] = (c_o_c_1+1) * (c+1) / (counts.sum() * counts_of_counts[c])\n",
    "    new_p = counts.map(p)\n",
    "    return list(new_p / new_p.sum())\n"
   ]
  },
  {
   "cell_type": "code",
   "execution_count": 205,
   "metadata": {},
   "outputs": [],
   "source": [
    "def combined_ci_framwork(boot_list, ci_method, param_func_probs, sample_probs, sample_size, corrected_confidence,\n",
    "                         num_of_bootstrap_smaples):\n",
    "    \n",
    "    if ci_method == 'good_bootstrap':\n",
    "        max_probs_list = []\n",
    "        for arr in boot_list: \n",
    "            if np.any(arr == 0):\n",
    "                arr_prob = arr == 0\n",
    "                max_prob = np.array(param_func_probs)[arr_prob].max()\n",
    "                max_probs_list.append(max_prob)\n",
    "        ci_bound_for_zero = np.quantile(max_probs_list,corrected_confidence, interpolation='lower')\n",
    "   \n",
    "    elif ci_method == 'rule_of_three':\n",
    "        ci_bound_for_zero = -np.log(1-corrected_confidence)/sample_size\n",
    "   \n",
    "    ci_lower_list = [0]*len(sample_probs)\n",
    "    ci_upper_list = [0]*len(sample_probs)\n",
    "    \n",
    "    for i in range(len(sample_probs)):\n",
    "        if sample_probs[i] == 0:\n",
    "            ci_lower_list[i] = 0\n",
    "            ci_upper_list[i] = ci_bound_for_zero\n",
    "        else:\n",
    "            ci_lower_list[i], ci_upper_list[i] = proportion_confint(sample_probs[i]*sample_size, sample_size, \n",
    "                                                                    (1-corrected_confidence), method=\"beta\")\n",
    "    return ci_lower_list, ci_upper_list\n",
    "      "
   ]
  },
  {
   "cell_type": "code",
   "execution_count": 206,
   "metadata": {},
   "outputs": [],
   "source": [
    "def get_ci(boot_list, ci_method, probs, sample_size, corrected_confidence, num_of_bootstrap_smaples, sample_probs):\n",
    "    boot_cis = pd.DataFrame()\n",
    "    boot_cis['param_probs'] = probs\n",
    "    \n",
    "    if ci_method == 'percentile':\n",
    "        boot_cis['ci_lower'] = np.quantile(boot_list,(1-corrected_confidence)/2, axis=0)\n",
    "        boot_cis['ci_upper'] = np.quantile(boot_list,(1+corrected_confidence)/2, axis=0)\n",
    "\n",
    "    elif ((ci_method == 'good_bootstrap') | (ci_method == 'rule_of_three')):\n",
    "        boot_cis['ci_lower'], boot_cis['ci_upper'] = combined_ci_framwork(boot_list, ci_method, probs, \n",
    "                                                                          sample_probs, sample_size, \n",
    "                                                                          corrected_confidence, num_of_bootstrap_smaples)\n",
    "    return boot_cis\n"
   ]
  },
  {
   "cell_type": "code",
   "execution_count": 207,
   "metadata": {},
   "outputs": [],
   "source": [
    "def run_parametric_bootstrap_ci(sample_words_list, sample_probs, word_index, sample_size, num_of_bootstrap_smaples, \n",
    "                             param_dist_func, ci_method='percentile',confidence=.95, bonferroni_correction=True):\n",
    "    \"\"\"\n",
    "    Custom function that generates parametric bootstrap confidence intervals for a sample of words from an alphabet. \n",
    "\n",
    "    :param sample_words_list: the raw sample\n",
    "    :param sample_probs: the alphabet empirical probability vector\n",
    "    :param word_index: the alphabet\n",
    "    :param sample_size: the size of the sample taken\n",
    "    :param num_of_bootstrap_smaples: how many bootstrap iterations to run\n",
    "    :param param_dist_func: the parametric plug-in distribution to use\n",
    "    :param ci_method: the method in which to calculate the confidence intervals (in current version can be one of: 'percentile', 'good_bootstrap', 'rule_of_three')\n",
    "    :param confidence: the confidence level for the intervals\n",
    "    :param bonferroni_correction: True to use the Bonferroni correction to control for FWER\n",
    "    \"\"\"\n",
    "    \n",
    "    bonf_corrected_alpha = (1-confidence)/len(word_index)\n",
    "    corrected_confidence = 1-(bonf_corrected_alpha) if bonferroni_correction else confidence\n",
    "    probs = param_dist_func(sample_words_list, word_index)\n",
    "    \n",
    "    boot_arr = default_rng().multinomial(sample_size, probs, size=num_of_bootstrap_smaples)\n",
    "    boot_probs_list = list(boot_arr / boot_arr.sum(axis=1, keepdims=True))\n",
    "\n",
    "    boot_cis = get_ci(boot_probs_list, ci_method, probs, sample_size, corrected_confidence,\n",
    "                        num_of_bootstrap_smaples, sample_probs)\n",
    "    \n",
    "    boot_cis['exp_method'] = ci_method \n",
    "\n",
    "    boot_cis['word'] = word_index\n",
    "    boot_cis['sample_probs'] = sample_probs\n",
    "\n",
    "    return boot_cis[['word', 'sample_probs', 'param_probs', 'exp_method', 'ci_lower', 'ci_upper']].reset_index(drop=True)\n"
   ]
  },
  {
   "cell_type": "markdown",
   "metadata": {},
   "source": [
    "# Running an experiment"
   ]
  },
  {
   "cell_type": "markdown",
   "metadata": {},
   "source": [
    "### Experiment functions"
   ]
  },
  {
   "cell_type": "code",
   "execution_count": 208,
   "metadata": {},
   "outputs": [],
   "source": [
    "def get_zipf_dist_probs(zipf_param, exp_alphabet_size):\n",
    "    ranks = np.arange(1, exp_alphabet_size+1)\n",
    "    weights = ranks ** (-zipf_param)\n",
    "    exp_probs = (weights / sum(weights))\n",
    "    return exp_probs\n",
    "\n",
    "\n",
    "def get_word_list(size):\n",
    "    chars = ascii_lowercase + digits\n",
    "    word_list = [''.join(choice(chars) for _ in range(3)) for _ in range(size*2)]\n",
    "    word_list = list(set(word_list))[:size]\n",
    "    word_list.sort()\n",
    "    return word_list\n"
   ]
  },
  {
   "cell_type": "code",
   "execution_count": 214,
   "metadata": {},
   "outputs": [],
   "source": [
    "def run_experiment(sample_size, probs, word_list, dictionary, num_of_bootstrap_smaples, iteration=None):\n",
    "    if iteration % 10 == 0: \n",
    "        print('iteration {}'.format(iteration))\n",
    "    \n",
    "    samp_exp = default_rng().multinomial(sample_size, probs, size=1).flatten()\n",
    "\n",
    "    sample_exp_df = pd.DataFrame(np.transpose(samp_exp), index=word_list, columns=['samp'])\n",
    "    sample_exp_df['probs'] = sample_exp_df['samp'] / sample_exp_df['samp'].sum()\n",
    "    samp_raw = list(np.repeat(word_list, sample_exp_df.samp))\n",
    "    \n",
    "    sis = sisson_glaz(sample_exp_df.samp, sample_exp_df['probs'].to_list(), word_list)\n",
    "    \n",
    "    good_bootstrap = run_parametric_bootstrap_ci(samp_raw,sample_exp_df['probs'].to_list(), word_list, \n",
    "                                                 sample_size, num_of_bootstrap_smaples, \n",
    "                                                 gt_orlitsky, ci_method='good_bootstrap')\n",
    "    rot = run_parametric_bootstrap_ci(samp_raw,sample_exp_df['probs'].to_list(), word_list, \n",
    "                                      sample_size, num_of_bootstrap_smaples, \n",
    "                                      gt_orlitsky, ci_method='rule_of_three')\n",
    "    res = pd.concat([sis, good_bootstrap, rot], ignore_index=True)\n",
    "    \n",
    "    res.loc[res['ci_lower'] < 0, 'ci_lower'] = 0\n",
    "    res.loc[res['ci_upper'] > 1, 'ci_upper'] = 1\n",
    "    res['ci_length'] = res['ci_upper'] - res['ci_lower']\n",
    "    res['log_ci_length'] = np.log(res['ci_length'])\n",
    "    res['exp_num'] = iteration \n",
    "    res['true_prob'] = res['word'].map(dictionary)\n",
    "    res['log_true_prob'] = np.log(res['true_prob'])\n",
    "    res['in_ci'] = (res['true_prob'] >= res['ci_lower']) & \\\n",
    "                       (res['true_prob'] <= res['ci_upper'])\n",
    "    \n",
    "    return res"
   ]
  },
  {
   "cell_type": "markdown",
   "metadata": {},
   "source": [
    "### Run experiment (parallel)"
   ]
  },
  {
   "cell_type": "code",
   "execution_count": 210,
   "metadata": {},
   "outputs": [],
   "source": [
    "exp_alphabet_size = 1000\n",
    "exp_sample_size = 200\n",
    "\n",
    "exp_probs = get_zipf_dist_probs(1.01, exp_alphabet_size)\n",
    "exp_word_list = get_word_list(exp_alphabet_size)\n",
    "exp_dictionary = dict(zip(exp_word_list, exp_probs))\n",
    "\n",
    "exp_bootstrap_smaples = 10000"
   ]
  },
  {
   "cell_type": "code",
   "execution_count": 215,
   "metadata": {
    "scrolled": false
   },
   "outputs": [
    {
     "name": "stdout",
     "output_type": "stream",
     "text": [
      "iteration 0\n",
      "iteration 10\n",
      "iteration 20\n",
      "iteration 30\n",
      "iteration 40\n",
      "iteration 50\n",
      "iteration 60\n",
      "iteration 70\n",
      "iteration 80\n",
      "iteration 90\n",
      "\n",
      " *********** process run time 6.398239934444428 minutes ***********\n"
     ]
    }
   ],
   "source": [
    "\n",
    "experiment_runs = 100\n",
    "pool = Pool(cpu_count()-2)\n",
    "func = partial(run_experiment, exp_sample_size, exp_probs, exp_word_list, exp_dictionary, exp_bootstrap_smaples)\n",
    "\n",
    "start_time = time.time()\n",
    "pooled_results = pool.starmap(func, zip(range(experiment_runs)))\n",
    "pool.close()\n",
    "pool.join()\n",
    "print(\"\\n *********** process run time {} minutes ***********\".format((time.time() - start_time)/60))\n"
   ]
  },
  {
   "cell_type": "code",
   "execution_count": 216,
   "metadata": {},
   "outputs": [
    {
     "data": {
      "text/html": [
       "<div>\n",
       "<style scoped>\n",
       "    .dataframe tbody tr th:only-of-type {\n",
       "        vertical-align: middle;\n",
       "    }\n",
       "\n",
       "    .dataframe tbody tr th {\n",
       "        vertical-align: top;\n",
       "    }\n",
       "\n",
       "    .dataframe thead th {\n",
       "        text-align: right;\n",
       "    }\n",
       "</style>\n",
       "<table border=\"1\" class=\"dataframe\">\n",
       "  <thead>\n",
       "    <tr style=\"text-align: right;\">\n",
       "      <th></th>\n",
       "      <th>word</th>\n",
       "      <th>sample_probs</th>\n",
       "      <th>param_probs</th>\n",
       "      <th>exp_method</th>\n",
       "      <th>ci_lower</th>\n",
       "      <th>ci_upper</th>\n",
       "      <th>ci_length</th>\n",
       "      <th>log_ci_length</th>\n",
       "      <th>exp_num</th>\n",
       "      <th>true_prob</th>\n",
       "      <th>log_true_prob</th>\n",
       "      <th>in_ci</th>\n",
       "    </tr>\n",
       "  </thead>\n",
       "  <tbody>\n",
       "    <tr>\n",
       "      <th>0</th>\n",
       "      <td>01x</td>\n",
       "      <td>0.140</td>\n",
       "      <td>0.140</td>\n",
       "      <td>sison-glaz</td>\n",
       "      <td>0.095</td>\n",
       "      <td>0.191469</td>\n",
       "      <td>0.096469</td>\n",
       "      <td>-2.338529</td>\n",
       "      <td>0</td>\n",
       "      <td>0.137874</td>\n",
       "      <td>-1.981412</td>\n",
       "      <td>True</td>\n",
       "    </tr>\n",
       "    <tr>\n",
       "      <th>1</th>\n",
       "      <td>03a</td>\n",
       "      <td>0.080</td>\n",
       "      <td>0.080</td>\n",
       "      <td>sison-glaz</td>\n",
       "      <td>0.035</td>\n",
       "      <td>0.131469</td>\n",
       "      <td>0.096469</td>\n",
       "      <td>-2.338529</td>\n",
       "      <td>0</td>\n",
       "      <td>0.068461</td>\n",
       "      <td>-2.681491</td>\n",
       "      <td>True</td>\n",
       "    </tr>\n",
       "    <tr>\n",
       "      <th>2</th>\n",
       "      <td>03y</td>\n",
       "      <td>0.050</td>\n",
       "      <td>0.050</td>\n",
       "      <td>sison-glaz</td>\n",
       "      <td>0.005</td>\n",
       "      <td>0.101469</td>\n",
       "      <td>0.096469</td>\n",
       "      <td>-2.338529</td>\n",
       "      <td>0</td>\n",
       "      <td>0.045456</td>\n",
       "      <td>-3.091011</td>\n",
       "      <td>True</td>\n",
       "    </tr>\n",
       "    <tr>\n",
       "      <th>3</th>\n",
       "      <td>06m</td>\n",
       "      <td>0.025</td>\n",
       "      <td>0.025</td>\n",
       "      <td>sison-glaz</td>\n",
       "      <td>0.000</td>\n",
       "      <td>0.076469</td>\n",
       "      <td>0.076469</td>\n",
       "      <td>-2.570863</td>\n",
       "      <td>0</td>\n",
       "      <td>0.033994</td>\n",
       "      <td>-3.381570</td>\n",
       "      <td>True</td>\n",
       "    </tr>\n",
       "    <tr>\n",
       "      <th>4</th>\n",
       "      <td>07e</td>\n",
       "      <td>0.045</td>\n",
       "      <td>0.045</td>\n",
       "      <td>sison-glaz</td>\n",
       "      <td>0.000</td>\n",
       "      <td>0.096469</td>\n",
       "      <td>0.096469</td>\n",
       "      <td>-2.338529</td>\n",
       "      <td>0</td>\n",
       "      <td>0.027135</td>\n",
       "      <td>-3.606945</td>\n",
       "      <td>True</td>\n",
       "    </tr>\n",
       "  </tbody>\n",
       "</table>\n",
       "</div>"
      ],
      "text/plain": [
       "  word  sample_probs  param_probs  exp_method  ci_lower  ci_upper  ci_length  \\\n",
       "0  01x         0.140        0.140  sison-glaz     0.095  0.191469   0.096469   \n",
       "1  03a         0.080        0.080  sison-glaz     0.035  0.131469   0.096469   \n",
       "2  03y         0.050        0.050  sison-glaz     0.005  0.101469   0.096469   \n",
       "3  06m         0.025        0.025  sison-glaz     0.000  0.076469   0.076469   \n",
       "4  07e         0.045        0.045  sison-glaz     0.000  0.096469   0.096469   \n",
       "\n",
       "   log_ci_length  exp_num  true_prob  log_true_prob  in_ci  \n",
       "0      -2.338529        0   0.137874      -1.981412   True  \n",
       "1      -2.338529        0   0.068461      -2.681491   True  \n",
       "2      -2.338529        0   0.045456      -3.091011   True  \n",
       "3      -2.570863        0   0.033994      -3.381570   True  \n",
       "4      -2.338529        0   0.027135      -3.606945   True  "
      ]
     },
     "execution_count": 216,
     "metadata": {},
     "output_type": "execute_result"
    }
   ],
   "source": [
    "exp_results = pd.concat(pooled_results)\n",
    "exp_results.head()"
   ]
  },
  {
   "cell_type": "code",
   "execution_count": 218,
   "metadata": {},
   "outputs": [
    {
     "data": {
      "text/plain": [
       "<seaborn.axisgrid.FacetGrid at 0x7fce63cd3310>"
      ]
     },
     "execution_count": 218,
     "metadata": {},
     "output_type": "execute_result"
    },
    {
     "data": {
      "image/png": "[encoded data removed]",
      "text/plain": [
       "<Figure size 944.4x504 with 1 Axes>"
      ]
     },
     "metadata": {
      "needs_background": "light"
     },
     "output_type": "display_data"
    }
   ],
   "source": [
    "g = sns.relplot(x='log_true_prob', y='ci_length',\n",
    "                hue='exp_method', style='exp_method', \n",
    "                kind='line', ci=None,\n",
    "                height=7, aspect=1.5,\n",
    "                data=exp_results)\n",
    "g.set_axis_labels(\"Log True Probability\", 'CI Length')"
   ]
  },
  {
   "cell_type": "code",
   "execution_count": 223,
   "metadata": {},
   "outputs": [
    {
     "data": {
      "text/html": [
       "<div>\n",
       "<style scoped>\n",
       "    .dataframe tbody tr th:only-of-type {\n",
       "        vertical-align: middle;\n",
       "    }\n",
       "\n",
       "    .dataframe tbody tr th {\n",
       "        vertical-align: top;\n",
       "    }\n",
       "\n",
       "    .dataframe thead th {\n",
       "        text-align: right;\n",
       "    }\n",
       "</style>\n",
       "<table border=\"1\" class=\"dataframe\">\n",
       "  <thead>\n",
       "    <tr style=\"text-align: right;\">\n",
       "      <th></th>\n",
       "      <th>experiments_with_all_word_coverage</th>\n",
       "      <th>log_ci_volume_mean</th>\n",
       "    </tr>\n",
       "    <tr>\n",
       "      <th>exp_method</th>\n",
       "      <th></th>\n",
       "      <th></th>\n",
       "    </tr>\n",
       "  </thead>\n",
       "  <tbody>\n",
       "    <tr>\n",
       "      <th>good_bootstrap</th>\n",
       "      <td>99</td>\n",
       "      <td>-3255.594589</td>\n",
       "    </tr>\n",
       "    <tr>\n",
       "      <th>rule_of_three</th>\n",
       "      <td>99</td>\n",
       "      <td>-2969.441550</td>\n",
       "    </tr>\n",
       "    <tr>\n",
       "      <th>sison-glaz</th>\n",
       "      <td>89</td>\n",
       "      <td>-2969.861117</td>\n",
       "    </tr>\n",
       "  </tbody>\n",
       "</table>\n",
       "</div>"
      ],
      "text/plain": [
       "                experiments_with_all_word_coverage  log_ci_volume_mean\n",
       "exp_method                                                            \n",
       "good_bootstrap                                  99        -3255.594589\n",
       "rule_of_three                                   99        -2969.441550\n",
       "sison-glaz                                      89        -2969.861117"
      ]
     },
     "execution_count": 223,
     "metadata": {},
     "output_type": "execute_result"
    }
   ],
   "source": [
    "res_by_exp = exp_results.groupby(['exp_num','exp_method']).agg(in_ci = ('in_ci', 'sum'),\n",
    "                                                               log_ci_volume = ('log_ci_length', 'sum')).reset_index()\n",
    "res_by_exp['all_in_ci'] = res_by_exp['in_ci'] == len(exp_word_list)\n",
    "\n",
    "res_by_exp.groupby(['exp_method']).agg(experiments_with_all_word_coverage = ('all_in_ci', 'sum'),\n",
    "                                       log_ci_volume_mean = ('log_ci_volume', 'mean'))"
   ]
  }
 ],
 "metadata": {
  "kernelspec": {
   "display_name": "Python 3",
   "language": "python",
   "name": "python3"
  },
  "language_info": {
   "codemirror_mode": {
    "name": "ipython",
    "version": 3
   },
   "file_extension": ".py",
   "mimetype": "text/x-python",
   "name": "python",
   "nbconvert_exporter": "python",
   "pygments_lexer": "ipython3",
   "version": "3.7.6"
  }
 },
 "nbformat": 4,
 "nbformat_minor": 4
}
